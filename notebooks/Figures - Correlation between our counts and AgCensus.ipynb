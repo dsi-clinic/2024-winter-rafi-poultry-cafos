{
 "cells": [
  {
   "cell_type": "code",
   "execution_count": 1,
   "metadata": {},
   "outputs": [],
   "source": [
    "# Copyright (c) Microsoft Corporation. All rights reserved\n",
    "# Licensed under the MIT License.\n",
    "%matplotlib inline\n",
    "import sys, os, time\n",
    "sys.path.append(\"..\")\n",
    "from collections import defaultdict\n",
    "\n",
    "import numpy as np\n",
    "import pandas as pd\n",
    "\n",
    "import matplotlib.pyplot as plt\n",
    "\n",
    "import fiona\n",
    "import fiona.transform\n",
    "import shapely\n",
    "import shapely.geometry\n",
    "from rtree.index import Index\n",
    "\n",
    "from scipy.stats import spearmanr"
   ]
  },
  {
   "cell_type": "code",
   "execution_count": 2,
   "metadata": {},
   "outputs": [
    {
     "name": "stdout",
     "output_type": "stream",
     "text": [
      "{'init': 'epsg:4269'}\n",
      "CPU times: user 41 s, sys: 236 ms, total: 41.2 s\n",
      "Wall time: 55.7 s\n"
     ]
    }
   ],
   "source": [
    "%%time\n",
    "county_fips = []\n",
    "county_shapes = []\n",
    "with fiona.open(\"../data/county_boundaries/cb_2018_us_county_5m.shp\") as f:\n",
    "    print(f.crs)\n",
    "    for row in f:\n",
    "        county_fips.append(row[\"properties\"][\"GEOID\"])\n",
    "        county_shapes.append(shapely.geometry.shape(fiona.transform.transform_geom(f.crs, \"epsg:4326\", row[\"geometry\"])))"
   ]
  },
  {
   "cell_type": "code",
   "execution_count": 3,
   "metadata": {},
   "outputs": [
    {
     "data": {
      "text/plain": [
       "3233"
      ]
     },
     "execution_count": 3,
     "metadata": {},
     "output_type": "execute_result"
    }
   ],
   "source": [
    "len(county_shapes)"
   ]
  },
  {
   "cell_type": "code",
   "execution_count": 4,
   "metadata": {},
   "outputs": [
    {
     "name": "stdout",
     "output_type": "stream",
     "text": [
      "{'init': 'epsg:4326'}\n",
      "CPU times: user 15.2 s, sys: 232 ms, total: 15.4 s\n",
      "Wall time: 15.4 s\n"
     ]
    }
   ],
   "source": [
    "%%time\n",
    "prediction_shapes = []\n",
    "prediction_shape_areas = []\n",
    "with fiona.open(\"../output/full-usa-3-13-2021_filtered_deduplicated.gpkg\") as f:\n",
    "    print(f.crs)\n",
    "    for row in f:\n",
    "        prediction_shapes.append(shapely.geometry.shape(row[\"geometry\"]))\n",
    "        prediction_shape_areas.append(row[\"properties\"][\"rectangle_area\"])"
   ]
  },
  {
   "cell_type": "code",
   "execution_count": 5,
   "metadata": {},
   "outputs": [
    {
     "data": {
      "text/plain": [
       "360857"
      ]
     },
     "execution_count": 5,
     "metadata": {},
     "output_type": "execute_result"
    }
   ],
   "source": [
    "len(prediction_shapes)"
   ]
  },
  {
   "cell_type": "code",
   "execution_count": 6,
   "metadata": {},
   "outputs": [
    {
     "name": "stdout",
     "output_type": "stream",
     "text": [
      "0\n",
      "50000\n",
      "100000\n",
      "150000\n",
      "200000\n",
      "250000\n",
      "300000\n",
      "350000\n",
      "CPU times: user 55.6 s, sys: 39.8 ms, total: 55.6 s\n",
      "Wall time: 55.6 s\n"
     ]
    }
   ],
   "source": [
    "%%time\n",
    "index = Index()\n",
    "for i, county_shape in enumerate(county_shapes):\n",
    "    index.insert(i, county_shape.bounds)\n",
    "\n",
    "prediction_to_county_idx_map = []\n",
    "for prediction_idx, prediction in enumerate(prediction_shapes):\n",
    "    if prediction_idx % 50000 == 0:\n",
    "        print(prediction_idx)\n",
    "    \n",
    "    matched_idx = None\n",
    "    for county_idx in index.intersection(prediction.bounds):\n",
    "        county = county_shapes[county_idx]\n",
    "        if county.contains(prediction) or county.intersects(prediction):\n",
    "            matched_idx = county_idx\n",
    "            break\n",
    "    prediction_to_county_idx_map.append(matched_idx)"
   ]
  },
  {
   "cell_type": "code",
   "execution_count": 7,
   "metadata": {},
   "outputs": [],
   "source": [
    "summed_area_by_county = defaultdict(float)\n",
    "counts_by_county = defaultdict(int)\n",
    "for i, county_idx in enumerate(prediction_to_county_idx_map):\n",
    "    \n",
    "    if county_idx is not None:    \n",
    "        county_geoid = county_fips[county_idx]\n",
    "        area = prediction_shape_areas[i]\n",
    "\n",
    "        summed_area_by_county[county_geoid] += area\n",
    "        counts_by_county[county_geoid] += 1"
   ]
  },
  {
   "cell_type": "code",
   "execution_count": 8,
   "metadata": {},
   "outputs": [
    {
     "data": {
      "text/plain": [
       "3018"
      ]
     },
     "execution_count": 8,
     "metadata": {},
     "output_type": "execute_result"
    }
   ],
   "source": [
    "len(summed_area_by_county)"
   ]
  },
  {
   "cell_type": "markdown",
   "metadata": {},
   "source": [
    "## Merge with AgCensus"
   ]
  },
  {
   "cell_type": "code",
   "execution_count": 9,
   "metadata": {},
   "outputs": [],
   "source": [
    "df = pd.read_csv(\n",
    "    \"../data/agcensus_data/agcensus_2017_chickens.csv\",\n",
    "    dtype={\n",
    "        \"State ANSI\": str,\n",
    "        \"County ANSI\": str\n",
    "    }\n",
    ")\n",
    "df[\"GEOID\"] = df[\"State ANSI\"] + df[\"County ANSI\"]\n",
    "df.set_index(\"GEOID\", inplace=True)\n",
    "df = df[~pd.isna(df.index)]"
   ]
  },
  {
   "cell_type": "code",
   "execution_count": 10,
   "metadata": {},
   "outputs": [],
   "source": [
    "cis = sorted(list(map(float,sorted(df[\"CV (%)\"].unique())[2:])))"
   ]
  },
  {
   "cell_type": "markdown",
   "metadata": {},
   "source": [
    "## Totals"
   ]
  },
  {
   "cell_type": "code",
   "execution_count": 116,
   "metadata": {},
   "outputs": [],
   "source": [
    "def get_totals(max_ci=float('inf')):\n",
    "\n",
    "    data_item_keys = [\n",
    "        \"CHICKENS, LAYERS - OPERATIONS WITH INVENTORY\",\n",
    "        \"CHICKENS, BROILERS - OPERATIONS WITH INVENTORY\",\n",
    "        \"CHICKENS, PULLETS, REPLACEMENT - OPERATIONS WITH INVENTORY\"\n",
    "    ]\n",
    "    \n",
    "    df = pd.read_csv(\n",
    "        \"../data/agcensus_data/agcensus_2017_chickens.csv\",\n",
    "        dtype={\n",
    "            \"State ANSI\": str,\n",
    "            \"County ANSI\": str\n",
    "        }\n",
    "    )\n",
    "    df[\"GEOID\"] = df[\"State ANSI\"] + df[\"County ANSI\"]\n",
    "    df.set_index(\"GEOID\", inplace=True)\n",
    "    df = df[~pd.isna(df.index)]\n",
    "    \n",
    "    \n",
    "    # Labeled values\n",
    "    totals = defaultdict(int)\n",
    "    for data_item_key in data_item_keys:\n",
    "        mask = (df[\"Data Item\"] == data_item_key) & (df[\"Domain\"] == \"TOTAL\")\n",
    "        sub_df = df[mask]\n",
    "\n",
    "        for geoid in county_fips:\n",
    "            gt_count = 0\n",
    "            ci = 100\n",
    "            if geoid in sub_df.index:\n",
    "                gt_count = float(sub_df[\"Value\"][geoid].replace(\",\",\"\"))\n",
    "\n",
    "                ci = sub_df[\"CV (%)\"][geoid]\n",
    "                if ci in [\"(L)\", \"(H)\"]:\n",
    "                    ci = 100\n",
    "                else:\n",
    "                    ci = float(ci)\n",
    "\n",
    "            if ci < max_ci:\n",
    "                totals[geoid] += gt_count\n",
    "\n",
    "    totals = np.array([totals[fips] for fips in county_fips])\n",
    "    return totals"
   ]
  },
  {
   "cell_type": "markdown",
   "metadata": {},
   "source": [
    "## Layers"
   ]
  },
  {
   "cell_type": "code",
   "execution_count": 12,
   "metadata": {},
   "outputs": [],
   "source": [
    "options = [\n",
    "    'INVENTORY: (1 TO 49 HEAD)',\n",
    "    'INVENTORY: (50 TO 99 HEAD)',\n",
    "    'INVENTORY: (100 TO 399 HEAD)',\n",
    "    'INVENTORY: (400 TO 3,199 HEAD)',\n",
    "    'INVENTORY: (3,200 TO 9,999 HEAD)',\n",
    "    'INVENTORY: (10,000 TO 19,999 HEAD)',\n",
    "    'INVENTORY: (20,000 TO 49,999 HEAD)',\n",
    "    'INVENTORY: (50,000 TO 99,999 HEAD)',\n",
    "    'INVENTORY: (100,000 OR MORE HEAD)',\n",
    "]\n",
    "\n",
    "column_names = [\n",
    "    'CHICKENS, LAYERS - OPERATIONS WITH INVENTORY: (1 TO 49 HEAD)',\n",
    "    'CHICKENS, LAYERS - OPERATIONS WITH INVENTORY: (50 TO 99 HEAD)',\n",
    "    'CHICKENS, LAYERS - OPERATIONS WITH INVENTORY: (100 TO 399 HEAD)',\n",
    "    'CHICKENS, LAYERS - OPERATIONS WITH INVENTORY: (400 TO 3,199 HEAD)',\n",
    "    'CHICKENS, LAYERS - OPERATIONS WITH INVENTORY: (3,200 TO 9,999 HEAD)',\n",
    "    'CHICKENS, LAYERS - OPERATIONS WITH INVENTORY: (10,000 TO 19,999 HEAD)',\n",
    "    'CHICKENS, LAYERS - OPERATIONS WITH INVENTORY: (20,000 TO 49,999 HEAD)',\n",
    "    'CHICKENS, LAYERS - OPERATIONS WITH INVENTORY: (50,000 TO 99,999 HEAD)',\n",
    "    'CHICKENS, LAYERS - OPERATIONS WITH INVENTORY: (100,000 OR MORE HEAD)',\n",
    "]"
   ]
  },
  {
   "cell_type": "code",
   "execution_count": 13,
   "metadata": {},
   "outputs": [],
   "source": [
    "data_item_key = \"CHICKENS, LAYERS - OPERATIONS WITH INVENTORY\"\n",
    "\n",
    "columns = {\n",
    "    \"county_fips\": county_fips,\n",
    "    \"predicted_barns\": [], \n",
    "    \"predicted_barn_area\": [],\n",
    "    \"total_agcensus_facilities\": get_totals(),\n",
    "}\n",
    "for key in column_names:\n",
    "    columns[key] = []\n",
    "\n",
    "# Predicted values\n",
    "for geoid in county_fips:\n",
    "    columns[\"predicted_barns\"].append(counts_by_county[geoid])\n",
    "    columns[\"predicted_barn_area\"].append(summed_area_by_county[geoid])\n",
    "    \n",
    "# Labeled values\n",
    "for option, key in zip(options, column_names):\n",
    "    mask = (df[\"Data Item\"] == data_item_key) & (df[\"Domain Category\"] == option)\n",
    "    sub_df = df[mask]\n",
    "    \n",
    "    for geoid in county_fips:\n",
    "        if geoid in sub_df.index:\n",
    "            gt_count = float(sub_df[\"Value\"][geoid].replace(\",\",\"\"))\n",
    "        else:\n",
    "            gt_count = 0\n",
    "        columns[key].append(gt_count)\n",
    "df = pd.DataFrame(columns)\n",
    "df.set_index(\"county_fips\", inplace=True)"
   ]
  },
  {
   "cell_type": "markdown",
   "metadata": {},
   "source": [
    "## Compute cumulative columns"
   ]
  },
  {
   "cell_type": "code",
   "execution_count": 14,
   "metadata": {},
   "outputs": [],
   "source": [
    "cumulative_column_names = [\n",
    "    \"CHICKENS, LAYERS - OPERATIONS WITH INVENTORY >= 1 head\",\n",
    "    \"CHICKENS, LAYERS - OPERATIONS WITH INVENTORY >= 50 heads\",\n",
    "    \"CHICKENS, LAYERS - OPERATIONS WITH INVENTORY >= 100 heads\",\n",
    "    \"CHICKENS, LAYERS - OPERATIONS WITH INVENTORY >= 400 heads\",\n",
    "    \"CHICKENS, LAYERS - OPERATIONS WITH INVENTORY >= 3,200 heads\",\n",
    "    \"CHICKENS, LAYERS - OPERATIONS WITH INVENTORY >= 10,000 heads\",\n",
    "    \"CHICKENS, LAYERS - OPERATIONS WITH INVENTORY >= 20,000 heads\",\n",
    "    \"CHICKENS, LAYERS - OPERATIONS WITH INVENTORY >= 50,000 heads\",\n",
    "    \"CHICKENS, LAYERS - OPERATIONS WITH INVENTORY >= 100,000 heads\"\n",
    "]\n",
    "\n",
    "for i in range(9):\n",
    "    new_column = df[column_names[i]].copy()\n",
    "    for j in range(i+1, 9):\n",
    "        key = column_names[j]\n",
    "        new_column += df[key]\n",
    "        \n",
    "    df[cumulative_column_names[i]] = new_column"
   ]
  },
  {
   "cell_type": "code",
   "execution_count": 15,
   "metadata": {},
   "outputs": [],
   "source": [
    "df.to_csv(\"../results/correlations_with_agcensus.csv\")"
   ]
  },
  {
   "cell_type": "markdown",
   "metadata": {},
   "source": [
    "## Correlations"
   ]
  },
  {
   "cell_type": "code",
   "execution_count": 16,
   "metadata": {},
   "outputs": [],
   "source": [
    "column_names = [\n",
    "    'CHICKENS, LAYERS - OPERATIONS WITH INVENTORY: (1 TO 49 HEAD)',\n",
    "    'CHICKENS, LAYERS - OPERATIONS WITH INVENTORY: (50 TO 99 HEAD)',\n",
    "    'CHICKENS, LAYERS - OPERATIONS WITH INVENTORY: (100 TO 399 HEAD)',\n",
    "    'CHICKENS, LAYERS - OPERATIONS WITH INVENTORY: (400 TO 3,199 HEAD)',\n",
    "    'CHICKENS, LAYERS - OPERATIONS WITH INVENTORY: (3,200 TO 9,999 HEAD)',\n",
    "    'CHICKENS, LAYERS - OPERATIONS WITH INVENTORY: (10,000 TO 19,999 HEAD)',\n",
    "    'CHICKENS, LAYERS - OPERATIONS WITH INVENTORY: (20,000 TO 49,999 HEAD)',\n",
    "    'CHICKENS, LAYERS - OPERATIONS WITH INVENTORY: (50,000 TO 99,999 HEAD)',\n",
    "    'CHICKENS, LAYERS - OPERATIONS WITH INVENTORY: (100,000 OR MORE HEAD)',\n",
    "]\n",
    "cumulative_column_names = [\n",
    "    \"CHICKENS, LAYERS - OPERATIONS WITH INVENTORY >= 1 head\",\n",
    "    \"CHICKENS, LAYERS - OPERATIONS WITH INVENTORY >= 50 heads\",\n",
    "    \"CHICKENS, LAYERS - OPERATIONS WITH INVENTORY >= 100 heads\",\n",
    "    \"CHICKENS, LAYERS - OPERATIONS WITH INVENTORY >= 400 heads\",\n",
    "    \"CHICKENS, LAYERS - OPERATIONS WITH INVENTORY >= 3,200 heads\",\n",
    "    \"CHICKENS, LAYERS - OPERATIONS WITH INVENTORY >= 10,000 heads\",\n",
    "    \"CHICKENS, LAYERS - OPERATIONS WITH INVENTORY >= 20,000 heads\",\n",
    "    \"CHICKENS, LAYERS - OPERATIONS WITH INVENTORY >= 50,000 heads\",\n",
    "    \"CHICKENS, LAYERS - OPERATIONS WITH INVENTORY >= 100,000 heads\"\n",
    "]"
   ]
  },
  {
   "cell_type": "code",
   "execution_count": 17,
   "metadata": {},
   "outputs": [],
   "source": [
    "df = pd.read_csv(\"../results/correlations_with_agcensus.csv\", dtype={\n",
    "    \"county_fips\": str,\n",
    "})\n",
    "df.set_index(\"county_fips\", inplace=True)"
   ]
  },
  {
   "cell_type": "code",
   "execution_count": 145,
   "metadata": {},
   "outputs": [],
   "source": [
    "xs = []\n",
    "ys = []\n",
    "ns = []\n",
    "\n",
    "for ci in cis:\n",
    "\n",
    "    y_pred = df[\"predicted_barns\"].values\n",
    "    y_test = get_totals(ci)\n",
    "    mask = y_test > 0\n",
    "\n",
    "    ns.append(mask.sum())\n",
    "    \n",
    "    rho, p = spearmanr(\n",
    "        y_pred[mask],\n",
    "        y_test[mask]\n",
    "    )\n",
    "    xs.append(ci)\n",
    "    ys.append(rho)"
   ]
  },
  {
   "cell_type": "code",
   "execution_count": 147,
   "metadata": {},
   "outputs": [
    {
     "data": {
      "image/png": "[encoded data removed]",
      "text/plain": [
       "<Figure size 432x288 with 1 Axes>"
      ]
     },
     "metadata": {},
     "output_type": "display_data"
    }
   ],
   "source": [
    "fig, ax = plt.subplots(1,1,figsize=(6,4),facecolor=\"white\")\n",
    "plt.scatter(xs, ys)\n",
    "plt.ylabel(\"Correlation ($\\\\rho$) with\\n# predicted barns\", fontsize=15)\n",
    "plt.xlabel(\"# operations in counties with CV $\\leq x$\", fontsize=15)\n",
    "plt.xticks(fontsize=13)\n",
    "plt.yticks(fontsize=13)\n",
    "ax.spines.right.set_visible(False)\n",
    "ax.spines.top.set_visible(False)\n",
    "plt.savefig('agcensus-correlations_different_cvs.jpg', dpi=300, bbox_inches='tight')\n",
    "plt.show()\n",
    "plt.close()"
   ]
  },
  {
   "cell_type": "code",
   "execution_count": 148,
   "metadata": {},
   "outputs": [
    {
     "name": "stdout",
     "output_type": "stream",
     "text": [
      "CHICKENS, LAYERS - OPERATIONS WITH INVENTORY >= 1 head\n",
      "All counties (n=3233): 0.2343 (0.0000)\n",
      "AgCensus non-zero counties (n=3036): 0.1137 (0.0000)\n",
      "\n",
      "CHICKENS, LAYERS - OPERATIONS WITH INVENTORY >= 50 heads\n",
      "All counties (n=3233): 0.2519 (0.0000)\n",
      "AgCensus non-zero counties (n=2640): 0.1250 (0.0000)\n",
      "\n",
      "CHICKENS, LAYERS - OPERATIONS WITH INVENTORY >= 100 heads\n",
      "All counties (n=3233): 0.2575 (0.0000)\n",
      "AgCensus non-zero counties (n=2084): 0.1457 (0.0000)\n",
      "\n",
      "CHICKENS, LAYERS - OPERATIONS WITH INVENTORY >= 400 heads\n",
      "All counties (n=3233): 0.3272 (0.0000)\n",
      "AgCensus non-zero counties (n=1132): 0.2889 (0.0000)\n",
      "\n",
      "CHICKENS, LAYERS - OPERATIONS WITH INVENTORY >= 3,200 heads\n",
      "All counties (n=3233): 0.3863 (0.0000)\n",
      "AgCensus non-zero counties (n=725): 0.3613 (0.0000)\n",
      "\n",
      "CHICKENS, LAYERS - OPERATIONS WITH INVENTORY >= 10,000 heads\n",
      "All counties (n=3233): 0.4038 (0.0000)\n",
      "AgCensus non-zero counties (n=663): 0.4006 (0.0000)\n",
      "\n",
      "CHICKENS, LAYERS - OPERATIONS WITH INVENTORY >= 20,000 heads\n",
      "All counties (n=3233): 0.3999 (0.0000)\n",
      "AgCensus non-zero counties (n=585): 0.4038 (0.0000)\n",
      "\n",
      "CHICKENS, LAYERS - OPERATIONS WITH INVENTORY >= 50,000 heads\n",
      "All counties (n=3233): 0.2937 (0.0000)\n",
      "AgCensus non-zero counties (n=313): 0.3108 (0.0000)\n",
      "\n",
      "CHICKENS, LAYERS - OPERATIONS WITH INVENTORY >= 100,000 heads\n",
      "All counties (n=3233): 0.2119 (0.0000)\n",
      "AgCensus non-zero counties (n=204): 0.2815 (0.0000)\n",
      "\n"
     ]
    }
   ],
   "source": [
    "ys = []\n",
    "for i in range(9):\n",
    "    \n",
    "    predicted_counts = df[\"predicted_barns\"].values\n",
    "    predicted_areas = df[\"predicted_barn_area\"].values\n",
    "    \n",
    "    agcensus_facilities = df[cumulative_column_names[i]].values\n",
    "    \n",
    "    print(cumulative_column_names[i])\n",
    "    rho, p = spearmanr(predicted_areas, agcensus_facilities)\n",
    "    print(f\"All counties (n={predicted_areas.shape[0]}): {rho:0.4f} ({p:0.4f})\")\n",
    "    \n",
    "    \n",
    "    mask = (agcensus_facilities > 0)\n",
    "    agcensus_facilities = agcensus_facilities[mask]\n",
    "    predicted_areas = predicted_areas[mask]\n",
    "    predicted_counts = predicted_counts[mask]\n",
    "    \n",
    "    rho, p = spearmanr(predicted_counts, agcensus_facilities)\n",
    "    print(f\"AgCensus non-zero counties (n={mask.sum()}): {rho:0.4f} ({p:0.4f})\")\n",
    "    print(\"\")\n",
    "    \n",
    "    ys.append(rho)"
   ]
  },
  {
   "cell_type": "code",
   "execution_count": 149,
   "metadata": {},
   "outputs": [
    {
     "data": {
      "image/png": "[encoded data removed]",
      "text/plain": [
       "<Figure size 432x288 with 1 Axes>"
      ]
     },
     "metadata": {},
     "output_type": "display_data"
    }
   ],
   "source": [
    "xs = [\n",
    "    \"$\\geq$ 1\",\n",
    "    \"$\\geq$ 50\",\n",
    "    \"$\\geq$ 100\",\n",
    "    \"$\\geq$ 400\",\n",
    "    \"$\\geq$ 3,200\",\n",
    "    \"$\\geq$ 10,000\",\n",
    "    \"$\\geq$ 20,000\",\n",
    "    \"$\\geq$ 50,000\",\n",
    "    \"$\\geq$ 100,000\"\n",
    "]\n",
    "\n",
    "fig, ax = plt.subplots(1,1,figsize=(6,4),facecolor=\"white\")\n",
    "plt.bar(xs, ys)\n",
    "plt.xticks(rotation=20, fontsize=13)\n",
    "plt.yticks(fontsize=13)\n",
    "plt.ylabel(\"Correlation ($\\\\rho$) with\\n# predicted barns\", fontsize=15)\n",
    "plt.xlabel(\"# layer operations with size (in heads) $\\geq x$\", fontsize=15)\n",
    "#plt.title(\"Correlation between predicted areas and\\nCoA facility counts by county\", fontsize=15)\n",
    "ax.spines.right.set_visible(False)\n",
    "ax.spines.top.set_visible(False)\n",
    "plt.savefig('agcensus-correlations_different_sizes.jpg', dpi=300, bbox_inches='tight')\n",
    "plt.show()\n",
    "plt.close()"
   ]
  },
  {
   "cell_type": "code",
   "execution_count": 159,
   "metadata": {},
   "outputs": [
    {
     "data": {
      "image/png": "[encoded data removed]",
      "text/plain": [
       "<Figure size 432x288 with 1 Axes>"
      ]
     },
     "metadata": {},
     "output_type": "display_data"
    }
   ],
   "source": [
    "df = pd.read_csv(\"../results/correlations_with_agcensus.csv\", dtype={\n",
    "    \"county_fips\": str,\n",
    "})\n",
    "df.set_index(\"county_fips\", inplace=True)\n",
    "robeson_fips = \"37155\" \n",
    "sussex_fips = \"10005\"\n",
    "\n",
    "y_pred = df['predicted_barns']\n",
    "y_true = df['CHICKENS, LAYERS - OPERATIONS WITH INVENTORY >= 10,000 heads']\n",
    "\n",
    "fig, ax = plt.subplots(1,1,figsize=(6,4),facecolor=\"white\")\n",
    "\n",
    "plt.scatter(y_true.values + np.random.randn(y_true.values.shape[0])/10, y_pred.values, alpha=0.1, s=40)\n",
    "plt.scatter(y_true[robeson_fips], y_pred[robeson_fips], s=100, c='green', label='Robeson County, NC')\n",
    "plt.scatter(y_true[sussex_fips], y_pred[sussex_fips], s=100, c='purple', label='Sussex County, DE')\n",
    "\n",
    "plt.yscale(\"symlog\",linthresh=1)\n",
    "plt.xscale(\"symlog\",linthresh=3)\n",
    "plt.xlim([-0.5,None])\n",
    "\n",
    "plt.xticks([0,1,2,3,10,100], [0,1,2,3,10,100], fontsize=13)\n",
    "plt.yticks([0,1,10,100,1000], [0,1,10,100,1000], fontsize=13)\n",
    "plt.xlabel('# layer operations with $\\geq$ 10,000 heads', fontsize=15)\n",
    "plt.ylabel('# predicted barns', fontsize=15)\n",
    "plt.legend(fontsize=15)\n",
    "\n",
    "ax.spines.right.set_visible(False)\n",
    "ax.spines.top.set_visible(False)\n",
    "\n",
    "plt.savefig('agcensus-barns_vs_operations.jpg', dpi=300, bbox_inches='tight')\n",
    "plt.show()\n",
    "plt.close()"
   ]
  }
 ],
 "metadata": {
  "kernelspec": {
   "display_name": "cafo",
   "language": "python",
   "name": "conda-env-cafo-py"
  },
  "language_info": {
   "codemirror_mode": {
    "name": "ipython",
    "version": 3
   },
   "file_extension": ".py",
   "mimetype": "text/x-python",
   "name": "python",
   "nbconvert_exporter": "python",
   "pygments_lexer": "ipython3",
   "version": "3.9.6"
  }
 },
 "nbformat": 4,
 "nbformat_minor": 4
}
