{
 "cells": [
  {
   "cell_type": "code",
   "execution_count": 1,
   "id": "spread-knock",
   "metadata": {},
   "outputs": [],
   "source": [
    "import pandas as pd"
   ]
  },
  {
   "cell_type": "code",
   "execution_count": 2,
   "id": "specialized-marsh",
   "metadata": {},
   "outputs": [],
   "source": [
    "df = pd.read_csv(\"../data/splits/test-single.csv\")"
   ]
  },
  {
   "cell_type": "code",
   "execution_count": 8,
   "id": "herbal-horse",
   "metadata": {},
   "outputs": [],
   "source": [
    "valid_imagery_set = set([\n",
    "    url.split(\"/\")[7]\n",
    "    for url in df[\"image_fn\"].values\n",
    "])"
   ]
  },
  {
   "cell_type": "code",
   "execution_count": 9,
   "id": "analyzed-server",
   "metadata": {},
   "outputs": [
    {
     "data": {
      "text/plain": [
       "{'md_100cm_2017', 'va_100cm_2016'}"
      ]
     },
     "execution_count": 9,
     "metadata": {},
     "output_type": "execute_result"
    }
   ],
   "source": [
    "valid_imagery_set"
   ]
  },
  {
   "cell_type": "code",
   "execution_count": 7,
   "id": "coral-statement",
   "metadata": {},
   "outputs": [
    {
     "data": {
      "text/plain": [
       "'md_100cm_2017'"
      ]
     },
     "execution_count": 7,
     "metadata": {},
     "output_type": "execute_result"
    }
   ],
   "source": [
    "urls[0].split(\"/\")[7]"
   ]
  },
  {
   "cell_type": "code",
   "execution_count": null,
   "id": "historic-venture",
   "metadata": {},
   "outputs": [],
   "source": []
  },
  {
   "cell_type": "code",
   "execution_count": 10,
   "id": "useful-seeking",
   "metadata": {},
   "outputs": [],
   "source": [
    "import os"
   ]
  },
  {
   "cell_type": "code",
   "execution_count": 11,
   "id": "exclusive-princess",
   "metadata": {},
   "outputs": [
    {
     "data": {
      "text/plain": [
       "'m_3707501_ne_18_1_20170611.tif'"
      ]
     },
     "execution_count": 11,
     "metadata": {},
     "output_type": "execute_result"
    }
   ],
   "source": [
    "os.path.basename(urls[0])"
   ]
  },
  {
   "cell_type": "code",
   "execution_count": null,
   "id": "outside-trail",
   "metadata": {},
   "outputs": [],
   "source": []
  }
 ],
 "metadata": {
  "kernelspec": {
   "display_name": "cafo",
   "language": "python",
   "name": "conda-env-cafo-py"
  },
  "language_info": {
   "codemirror_mode": {
    "name": "ipython",
    "version": 3
   },
   "file_extension": ".py",
   "mimetype": "text/x-python",
   "name": "python",
   "nbconvert_exporter": "python",
   "pygments_lexer": "ipython3",
   "version": "3.9.6"
  }
 },
 "nbformat": 4,
 "nbformat_minor": 5
}
