{
 "cells": [
  {
   "cell_type": "code",
   "execution_count": 1,
   "id": "particular-mistress",
   "metadata": {},
   "outputs": [],
   "source": [
    "# Copyright (c) Microsoft Corporation. All rights reserved\n",
    "# Licensed under the MIT License.\n",
    "import fiona\n",
    "import shapely.geometry\n",
    "import pandas as pd\n",
    "import subprocess"
   ]
  },
  {
   "cell_type": "code",
   "execution_count": null,
   "id": "commercial-samba",
   "metadata": {},
   "outputs": [
    {
     "ename": "",
     "evalue": "",
     "output_type": "error",
     "traceback": [
      "\u001b[1;31mThe kernel died. Error: /home/cmcluckie/miniconda3/bin/python3: No module named ipykernel_launcher... View Jupyter <a href='command:jupyter.viewOutput'>log</a> for further details."
     ]
    }
   ],
   "source": [
    "!wget https://www2.census.gov/geo/tiger/GENZ2018/shp/cb_2018_us_county_5m.zip\n",
    "!unzip cb_2018_us_county_5m.zip"
   ]
  },
  {
   "cell_type": "code",
   "execution_count": null,
   "id": "difficult-coach",
   "metadata": {},
   "outputs": [
    {
     "ename": "",
     "evalue": "",
     "output_type": "error",
     "traceback": [
      "\u001b[1;31mThe kernel died. Error: /home/cmcluckie/miniconda3/bin/python3: No module named ipykernel_launcher... View Jupyter <a href='command:jupyter.viewOutput'>log</a> for further details."
     ]
    }
   ],
   "source": [
    "# Read the list of county GEOIDs that make up the Chesapeake Bay\n",
    "geoids = set(pd.read_csv(\"../data/chesapeake-bay-county-geoids.csv\", dtype={\"geoids\":\"str\"})[\"geoids\"].values)"
   ]
  },
  {
   "cell_type": "code",
   "execution_count": null,
   "id": "dated-edward",
   "metadata": {},
   "outputs": [
    {
     "ename": "",
     "evalue": "",
     "output_type": "error",
     "traceback": [
      "\u001b[1;31mThe kernel died. Error: /home/cmcluckie/miniconda3/bin/python3: No module named ipykernel_launcher... View Jupyter <a href='command:jupyter.viewOutput'>log</a> for further details."
     ]
    }
   ],
   "source": [
    "# Copy the US counties that are in the Chesapeake Bay into a new GeoJSON file\n",
    "with fiona.open(\"cb_2018_us_county_5m.shp\") as src:\n",
    "    dst_schema = src.schema.copy()\n",
    "    dst_schema[\"geometry\"] = \"MultiPolygon\"\n",
    "    \n",
    "    with fiona.open(\n",
    "        \"../data/chesapeake-bay-counties_epsg4269.geojson\",\n",
    "        mode=\"w\",\n",
    "        driver=\"GeoJSON\",\n",
    "        crs=src.crs,\n",
    "        schema=dst_schema\n",
    "    ) as dst:\n",
    "        for row in src:\n",
    "            if row[\"properties\"][\"GEOID\"] in geoids:\n",
    "                if row[\"geometry\"][\"type\"] == \"Polygon\":\n",
    "                    shape = shapely.geometry.shape(row[\"geometry\"])\n",
    "                    geom = shapely.geometry.mapping(\n",
    "                        shapely.geometry.MultiPolygon(polygons=[shape])\n",
    "                    )\n",
    "                    row[\"geometry\"] = geom\n",
    "                    dst.write(row)\n",
    "                else:\n",
    "                    dst.write(row)"
   ]
  },
  {
   "cell_type": "code",
   "execution_count": null,
   "id": "hearing-listening",
   "metadata": {},
   "outputs": [
    {
     "ename": "",
     "evalue": "",
     "output_type": "error",
     "traceback": [
      "\u001b[1;31mThe kernel died. Error: /home/cmcluckie/miniconda3/bin/python3: No module named ipykernel_launcher... View Jupyter <a href='command:jupyter.viewOutput'>log</a> for further details."
     ]
    }
   ],
   "source": [
    "# Convert GeoJSON file to EPSG:4326\n",
    "assert subprocess.call([\n",
    "    \"ogr2ogr\",\n",
    "    \"-t_srs\", \"epsg:4326\",\n",
    "    \"../data/chesapeake-bay-counties_epsg4326.geojson\",\n",
    "    \"../data/chesapeake-bay-counties_epsg4269.geojson\"\n",
    "]) == 0"
   ]
  },
  {
   "cell_type": "code",
   "execution_count": null,
   "id": "veterinary-wisdom",
   "metadata": {},
   "outputs": [
    {
     "ename": "",
     "evalue": "",
     "output_type": "error",
     "traceback": [
      "\u001b[1;31mThe kernel died. Error: /home/cmcluckie/miniconda3/bin/python3: No module named ipykernel_launcher... View Jupyter <a href='command:jupyter.viewOutput'>log</a> for further details."
     ]
    }
   ],
   "source": [
    "!rm cb_2018_us_county_5m.*"
   ]
  },
  {
   "cell_type": "code",
   "execution_count": null,
   "id": "90616b09",
   "metadata": {},
   "outputs": [
    {
     "ename": "",
     "evalue": "",
     "output_type": "error",
     "traceback": [
      "\u001b[1;31mThe kernel died. Error: /home/cmcluckie/miniconda3/bin/python3: No module named ipykernel_launcher... View Jupyter <a href='command:jupyter.viewOutput'>log</a> for further details."
     ]
    }
   ],
   "source": []
  }
 ],
 "metadata": {
  "kernelspec": {
   "display_name": "Python 3",
   "language": "python",
   "name": "python3"
  },
  "language_info": {
   "codemirror_mode": {
    "name": "ipython",
    "version": 3
   },
   "file_extension": ".py",
   "mimetype": "text/x-python",
   "name": "python",
   "nbconvert_exporter": "python",
   "pygments_lexer": "ipython3",
   "version": "3.10.13"
  }
 },
 "nbformat": 4,
 "nbformat_minor": 5
}
