{
 "cells": [
  {
   "cell_type": "code",
   "execution_count": 1,
   "id": "worse-pepper",
   "metadata": {},
   "outputs": [],
   "source": [
    "# Copyright (c) Microsoft Corporation. All rights reserved\n",
    "# Licensed under the MIT License.\n",
    "import os\n",
    "import numpy as np\n",
    "import pandas as pd\n",
    "import rasterio"
   ]
  },
  {
   "cell_type": "markdown",
   "id": "transsexual-formula",
   "metadata": {},
   "source": [
    "## Calculate the number of pixels in each split"
   ]
  },
  {
   "cell_type": "code",
   "execution_count": 2,
   "id": "promotional-discrimination",
   "metadata": {},
   "outputs": [
    {
     "name": "stdout",
     "output_type": "stream",
     "text": [
      "all.csv 160049799502\n",
      "train-all.csv 124084523923\n",
      "all-single.csv 23713268170\n",
      "train-augment.csv 124084523923\n",
      "test-single.csv 5326745583\n",
      "test-all.csv 35965275579\n",
      "train-single.csv 18386522587\n"
     ]
    }
   ],
   "source": [
    "for fn in os.listdir(\"../data/splits/\"):\n",
    "    df = pd.read_csv(f\"../data/splits/{fn}\")\n",
    "    naip_urls = df[\"image_fn\"].values\n",
    "    mask_urls = df[\"label_fn\"].values\n",
    "    \n",
    "    num_patches = 0\n",
    "    for url in naip_urls:\n",
    "        with rasterio.open(url) as f:\n",
    "            height, width = f.shape\n",
    "        num_patches += (height * width)# / (256 * 256)\n",
    "    print(fn, num_patches)"
   ]
  },
  {
   "cell_type": "markdown",
   "id": "divine-reference",
   "metadata": {},
   "source": [
    "## Compute average tile size"
   ]
  },
  {
   "cell_type": "code",
   "execution_count": 11,
   "id": "automated-rendering",
   "metadata": {},
   "outputs": [
    {
     "name": "stdout",
     "output_type": "stream",
     "text": [
      "8593.338690709526\n",
      "6918.482947863583\n"
     ]
    }
   ],
   "source": [
    "heights = []\n",
    "widths = []\n",
    "df = pd.read_csv(f\"../data/splits/all.csv\")\n",
    "naip_urls = df[\"image_fn\"].values\n",
    "for url in naip_urls:\n",
    "    with rasterio.open(url) as f:\n",
    "        height, width = f.shape\n",
    "        heights.append(height)\n",
    "        widths.append(width)\n",
    "print(np.mean(heights))\n",
    "print(np.mean(widths))"
   ]
  },
  {
   "cell_type": "markdown",
   "id": "maritime-binary",
   "metadata": {},
   "source": [
    "## Print number of tiles in each split"
   ]
  },
  {
   "cell_type": "code",
   "execution_count": 3,
   "id": "textile-receiver",
   "metadata": {},
   "outputs": [
    {
     "name": "stdout",
     "output_type": "stream",
     "text": [
      "all.csv (2551, 2)\n",
      "train-all.csv (1983, 2)\n",
      "all-single.csv (511, 2)\n",
      "train-augment.csv (1983, 2)\n",
      "test-single.csv (114, 2)\n",
      "test-all.csv (568, 2)\n",
      "train-single.csv (397, 2)\n"
     ]
    }
   ],
   "source": [
    "for fn in os.listdir(\"../data/splits/\"):\n",
    "    df = pd.read_csv(f\"../data/splits/{fn}\")\n",
    "    print(fn, df.shape)"
   ]
  },
  {
   "cell_type": "markdown",
   "id": "assigned-chicken",
   "metadata": {},
   "source": [
    "## Print number of positive samples in each split"
   ]
  },
  {
   "cell_type": "code",
   "execution_count": 36,
   "id": "representative-indonesian",
   "metadata": {},
   "outputs": [],
   "source": [
    "import fiona"
   ]
  },
  {
   "cell_type": "code",
   "execution_count": 13,
   "id": "proof-manner",
   "metadata": {},
   "outputs": [],
   "source": [
    "number_polygons_per_split = {}"
   ]
  },
  {
   "cell_type": "code",
   "execution_count": 17,
   "id": "legendary-exclusive",
   "metadata": {},
   "outputs": [],
   "source": [
    "with fiona.open(\"../data/delmarva_testing_set_polygons.geojson\") as f:\n",
    "    number_polygons_per_split[\"test-single\"]= len(f)\n",
    "    number_polygons_per_split[\"test-all\"]= len(f) * 5\n",
    "with fiona.open(\"../data/delmarva_training_set_polygons.geojson\") as f:\n",
    "    number_polygons_per_split[\"train-single\"]= len(f)\n",
    "    number_polygons_per_split[\"train-all\"]= len(f) * 5"
   ]
  },
  {
   "cell_type": "code",
   "execution_count": 41,
   "id": "digital-chassis",
   "metadata": {},
   "outputs": [],
   "source": [
    "tile_state_years = []\n",
    "with fiona.open(\"../data/delmarva_all_set_tiles.geojson\") as f:\n",
    "    for i, row in enumerate(f):\n",
    "        state, res, year = row[\"properties\"][\"url\"].split(\"/\")[3].split(\"_\")\n",
    "        tile_state_years.append((state, year))\n",
    "state_years = set(tile_state_years)"
   ]
  },
  {
   "cell_type": "code",
   "execution_count": 69,
   "id": "aboriginal-worcester",
   "metadata": {},
   "outputs": [
    {
     "name": "stdout",
     "output_type": "stream",
     "text": [
      "md 2011 4554\n",
      "md 2018 5280\n",
      "md 2015 5004\n",
      "md 2017 5280\n",
      "md 2013 4749\n"
     ]
    }
   ],
   "source": [
    "train_augment_counts = 0\n",
    "for state_year in state_years:\n",
    "    state, year = state_year\n",
    "    if state in [\"md\"]:\n",
    "        with fiona.open(f\"../data/poultry_barn_change_predictions/poultry_barns-64-200_predictions_{year}_train.geojson\") as f:\n",
    "            train_augment_counts += len(f)\n",
    "            print(state, year, len(f))\n",
    "number_polygons_per_split[\"train-augment\"] = train_augment_counts"
   ]
  },
  {
   "cell_type": "code",
   "execution_count": 70,
   "id": "outstanding-closer",
   "metadata": {},
   "outputs": [
    {
     "data": {
      "text/plain": [
       "{'test-single': 733,\n",
       " 'test-all': 3665,\n",
       " 'train-single': 5280,\n",
       " 'train-all': 26400,\n",
       " 'train-augment': 24867}"
      ]
     },
     "execution_count": 70,
     "metadata": {},
     "output_type": "execute_result"
    }
   ],
   "source": [
    "number_polygons_per_split"
   ]
  },
  {
   "cell_type": "markdown",
   "id": "furnished-courtesy",
   "metadata": {},
   "source": [
    "## Number of tiles in the US"
   ]
  },
  {
   "cell_type": "code",
   "execution_count": 4,
   "id": "biological-description",
   "metadata": {},
   "outputs": [],
   "source": [
    "df = pd.read_csv(\"../data/naip_most_recent_100cm.csv\")"
   ]
  },
  {
   "cell_type": "markdown",
   "id": "mighty-robin",
   "metadata": {},
   "source": [
    "## Number of pixels in the US"
   ]
  },
  {
   "cell_type": "code",
   "execution_count": 10,
   "id": "suburban-officer",
   "metadata": {},
   "outputs": [
    {
     "data": {
      "text/plain": [
       "13323094913150.807"
      ]
     },
     "execution_count": 10,
     "metadata": {},
     "output_type": "execute_result"
    }
   ],
   "source": [
    "(160049799502 / 2551) * df.shape[0]"
   ]
  }
 ],
 "metadata": {
  "kernelspec": {
   "display_name": "cafo_public",
   "language": "python",
   "name": "conda-env-cafo_public-py"
  },
  "language_info": {
   "codemirror_mode": {
    "name": "ipython",
    "version": 3
   },
   "file_extension": ".py",
   "mimetype": "text/x-python",
   "name": "python",
   "nbconvert_exporter": "python",
   "pygments_lexer": "ipython3",
   "version": "3.7.11"
  }
 },
 "nbformat": 4,
 "nbformat_minor": 5
}
