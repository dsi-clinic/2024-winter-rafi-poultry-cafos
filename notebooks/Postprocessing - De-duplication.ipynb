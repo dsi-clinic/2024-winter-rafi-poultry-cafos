{
 "cells": [
  {
   "cell_type": "code",
   "execution_count": 1,
   "id": "threatened-import",
   "metadata": {},
   "outputs": [],
   "source": [
    "import numpy as np\n",
    "from copy import deepcopy\n",
    "\n",
    "import fiona\n",
    "import shapely.geometry\n",
    "from rtree.index import Index"
   ]
  },
  {
   "cell_type": "code",
   "execution_count": 2,
   "id": "listed-material",
   "metadata": {
    "scrolled": true
   },
   "outputs": [
    {
     "name": "stdout",
     "output_type": "stream",
     "text": [
      "0\n",
      "10000\n",
      "20000\n",
      "30000\n",
      "40000\n",
      "50000\n",
      "60000\n",
      "70000\n",
      "80000\n",
      "90000\n",
      "100000\n",
      "110000\n",
      "120000\n",
      "130000\n",
      "140000\n",
      "150000\n",
      "160000\n",
      "170000\n",
      "180000\n",
      "190000\n",
      "200000\n",
      "210000\n",
      "220000\n",
      "230000\n",
      "240000\n",
      "250000\n",
      "260000\n",
      "270000\n",
      "280000\n",
      "290000\n",
      "300000\n",
      "310000\n",
      "320000\n",
      "330000\n",
      "340000\n",
      "350000\n",
      "360000\n",
      "370000\n",
      "380000\n",
      "390000\n",
      "400000\n",
      "410000\n",
      "420000\n",
      "CPU times: user 18.5 s, sys: 976 ms, total: 19.5 s\n",
      "Wall time: 19.4 s\n"
     ]
    }
   ],
   "source": [
    "%%time\n",
    "geoms = []\n",
    "properties = []\n",
    "with fiona.open(\"../output/full-usa-3-13-2021_filtered.gpkg\") as src:\n",
    "    for i, row in enumerate(src):\n",
    "        if i % 10000 == 0:\n",
    "            print(i)\n",
    "        geom = shapely.geometry.shape(row[\"geometry\"])\n",
    "        geoms.append(geom)\n",
    "        properties.append(row[\"properties\"])"
   ]
  },
  {
   "cell_type": "code",
   "execution_count": 3,
   "id": "tracked-album",
   "metadata": {},
   "outputs": [],
   "source": [
    "def do_filter(geoms, properties, idx):\n",
    "    mask = np.zeros(len(geoms))\n",
    "\n",
    "    valid_ids = []\n",
    "    for i in range(len(geoms)):\n",
    "        if mask[i] == 0:\n",
    "            src_geom = geoms[i]\n",
    "            result_idxs = []\n",
    "            result_areas = []\n",
    "            for j in idx.intersection(src_geom.bounds):\n",
    "                target_geom = geoms[j]\n",
    "                target_properties = properties[j]\n",
    "                if src_geom.intersects(target_geom):\n",
    "                    result_idxs.append(j)\n",
    "                    result_areas.append(target_properties[\"area\"])\n",
    "\n",
    "            j = result_idxs[np.argmax(result_areas)] \n",
    "            valid_ids.append(j)\n",
    "\n",
    "            mask[i] = 1\n",
    "            mask[j] = 1\n",
    "    return set(valid_ids)"
   ]
  },
  {
   "cell_type": "code",
   "execution_count": 4,
   "id": "economic-mandate",
   "metadata": {},
   "outputs": [
    {
     "name": "stdout",
     "output_type": "stream",
     "text": [
      "0 424874\n",
      "1 361244\n",
      "2 360875\n",
      "3 360857\n"
     ]
    }
   ],
   "source": [
    "valid_ids = set(range(len(geoms)))\n",
    "\n",
    "t_geoms = geoms\n",
    "t_properties = properties\n",
    "i = 0\n",
    "while True:\n",
    "    \n",
    "    t_geoms = [t_geoms[j] for j in range(len(t_geoms)) if j in valid_ids]\n",
    "    t_properties = [t_properties[j] for j in range(len(t_properties)) if j in valid_ids]\n",
    "        \n",
    "    idx = Index()\n",
    "    for j, geom in enumerate(t_geoms):\n",
    "        idx.insert(j, geom.bounds)\n",
    "        \n",
    "    print(i, len(t_geoms))\n",
    "    i+=1\n",
    "\n",
    "    valid_ids = do_filter(t_geoms, t_properties, idx)\n",
    "    \n",
    "    if len(valid_ids) == len(t_geoms):\n",
    "        break"
   ]
  },
  {
   "cell_type": "code",
   "execution_count": 8,
   "id": "equipped-acting",
   "metadata": {},
   "outputs": [
    {
     "name": "stdout",
     "output_type": "stream",
     "text": [
      "0\n",
      "10000\n",
      "20000\n",
      "30000\n",
      "40000\n",
      "50000\n",
      "60000\n",
      "70000\n",
      "80000\n",
      "90000\n",
      "100000\n",
      "110000\n",
      "120000\n",
      "130000\n",
      "140000\n",
      "150000\n",
      "160000\n",
      "170000\n",
      "180000\n",
      "190000\n",
      "200000\n",
      "210000\n",
      "220000\n",
      "230000\n",
      "240000\n",
      "250000\n",
      "260000\n",
      "270000\n",
      "280000\n",
      "290000\n",
      "300000\n",
      "310000\n",
      "320000\n",
      "330000\n",
      "340000\n",
      "350000\n",
      "360000\n"
     ]
    }
   ],
   "source": [
    "with fiona.open(\"../output/full-usa-3-13-2021_filtered.gpkg\") as src:\n",
    "    with fiona.open(\n",
    "        \"../output/full-usa-3-13-2021_filtered_deduplicated.gpkg\", \"w\",\n",
    "        crs=src.crs, driver=src.driver, schema=src.schema\n",
    "    ) as dst:\n",
    "        for i in range(len(t_geoms)):\n",
    "            if i % 10000 == 0:\n",
    "                print(i)\n",
    "                \n",
    "            row = {\n",
    "                \"geometry\": shapely.geometry.mapping(t_geoms[i]),\n",
    "                \"properties\": t_properties[i]\n",
    "            }\n",
    "            dst.write(row)"
   ]
  }
 ],
 "metadata": {
  "kernelspec": {
   "display_name": "cafo",
   "language": "python",
   "name": "conda-env-cafo-py"
  },
  "language_info": {
   "codemirror_mode": {
    "name": "ipython",
    "version": 3
   },
   "file_extension": ".py",
   "mimetype": "text/x-python",
   "name": "python",
   "nbconvert_exporter": "python",
   "pygments_lexer": "ipython3",
   "version": "3.9.6"
  }
 },
 "nbformat": 4,
 "nbformat_minor": 5
}
