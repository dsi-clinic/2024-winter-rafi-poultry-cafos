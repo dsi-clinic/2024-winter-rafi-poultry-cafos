{
 "cells": [
  {
   "cell_type": "code",
   "execution_count": 1,
   "metadata": {},
   "outputs": [],
   "source": [
    "import folium\n",
    "import json\n",
    "import geopandas as gpd\n",
    "import pandas as pd\n",
    "from folium import GeoJsonTooltip\n",
    "import ipywidgets as widgets\n",
    "from IPython.display import display, clear_output\n",
    "import numpy as np\n"
   ]
  },
  {
   "cell_type": "markdown",
   "metadata": {},
   "source": [
    "#### First we get the Microsoft predictions for the entire US and we filter for North Carolina, Nebraska, Mississippi and Arkansas"
   ]
  },
  {
   "cell_type": "code",
   "execution_count": 2,
   "metadata": {},
   "outputs": [],
   "source": [
    "gdf = gpd.read_file('../data/full-usa-3-13-2021_filtered_deduplicated.gpkg')\n",
    "gdf_geojson = gdf.to_json()"
   ]
  },
  {
   "cell_type": "code",
   "execution_count": 10,
   "metadata": {},
   "outputs": [],
   "source": [
    "# Nebraska\n",
    "nebraska = gpd.read_file('../data/geojson_to_filter_out/state_boundary/nebraska.geojson')\n",
    "ne_gdf = gpd.GeoDataFrame.from_features(nebraska)\n",
    "\n",
    "polygon = ne_gdf.geometry.iloc[0] \n",
    "gdf['nebraska'] = gdf.geometry.within(polygon)\n",
    "ne_predictions = gdf[gdf['nebraska']]\n",
    "\n",
    "ne_predictions.to_file(\"../output/ne_predictions.geojson\", driver='GeoJSON')"
   ]
  },
  {
   "cell_type": "code",
   "execution_count": 11,
   "metadata": {},
   "outputs": [],
   "source": [
    "# North Carolina\n",
    "northcarolina = gpd.read_file('../data/geojson_to_filter_out/state_boundary/north_carolina.geojson')\n",
    "nc_gdf = gpd.GeoDataFrame.from_features(northcarolina)\n",
    "\n",
    "polygon = nc_gdf.geometry.iloc[0] \n",
    "gdf['northcarolina'] = gdf.geometry.within(polygon)\n",
    "nc_predictions = gdf[gdf['northcarolina']]\n",
    "\n",
    "nc_predictions.to_file(\"../output/northcarolina_predictions.geojson\", driver='GeoJSON')"
   ]
  },
  {
   "cell_type": "code",
   "execution_count": 3,
   "metadata": {},
   "outputs": [],
   "source": [
    "# Arkansas\n",
    "arkansas = gpd.read_file('../data/geojson_to_filter_out/state_boundary/arkansas.geojson')\n",
    "ar_gdf = gpd.GeoDataFrame.from_features(arkansas)\n",
    "\n",
    "polygon = ar_gdf.geometry.iloc[0] \n",
    "gdf['arkansas'] = gdf.geometry.within(polygon)\n",
    "ar_predictions = gdf[gdf['arkansas']]\n",
    "\n",
    "ar_predictions.to_file(\"../output/arkansas_predictions.geojson\", driver='GeoJSON')"
   ]
  },
  {
   "cell_type": "code",
   "execution_count": 3,
   "metadata": {},
   "outputs": [],
   "source": [
    "# Mississippi\n",
    "mississippi = gpd.read_file('../data/geojson_to_filter_out/state_boundary/mississippi.geojson')\n",
    "mi_gdf = gpd.GeoDataFrame.from_features(mississippi)\n",
    "\n",
    "polygon = mi_gdf.geometry.iloc[0] \n",
    "gdf['mississippi'] = gdf.geometry.within(polygon)\n",
    "mi_predictions = gdf[gdf['mississippi']]\n",
    "\n",
    "mi_predictions.to_file(\"../output/mississippi_predictions.geojson\", driver='GeoJSON')"
   ]
  },
  {
   "cell_type": "markdown",
   "metadata": {},
   "source": [
    "#### Run the rule_base_filtering.py to get final data"
   ]
  },
  {
   "cell_type": "markdown",
   "metadata": {},
   "source": [
    "#### Plot the final data that has been filtered by the rule_base_filtering.py with hovering labels, on click it will save the index and also add the marker to the map"
   ]
  },
  {
   "cell_type": "code",
   "execution_count": 3,
   "metadata": {},
   "outputs": [
    {
     "data": {
      "application/vnd.jupyter.widget-view+json": {
       "model_id": "b9f498b67e6f49c0b523de9b0c34e446",
       "version_major": 2,
       "version_minor": 0
      },
      "text/plain": [
       "Map(center=[34.9, -92.3], controls=(ZoomControl(options=['position', 'zoom_in_text', 'zoom_in_title', 'zoom_ou…"
      ]
     },
     "execution_count": 3,
     "metadata": {},
     "output_type": "execute_result"
    }
   ],
   "source": [
    "from ipyleaflet import Map, GeoJSON, WidgetControl, TileLayer, Marker\n",
    "from ipywidgets import HTML, Layout\n",
    "import json\n",
    "import threading\n",
    "import time\n",
    "import random\n",
    "\n",
    "# Load your GeoJSON data\n",
    "with open('../output/northcarolina_final_data.geojson') as f:\n",
    "    geojson_data = json.load(f)\n",
    "for i, feature in enumerate(geojson_data['features']):\n",
    "    # Assign an 'index' property to each feature\n",
    "    feature['properties']['index'] = i\n",
    "# Initialize the map\n",
    "m = Map(center=(34.9, -92.3), zoom=6.5)\n",
    "# Widget to display feature information on the map\n",
    "widget = HTML()\n",
    "widget.layout.margin = '0px 20px 20px 20px'\n",
    "control = WidgetControl(widget=widget, position='bottomright')\n",
    "m.add_control(control)\n",
    "# Global variable to keep track of hover state\n",
    "is_hovering = False\n",
    "is_clicking = False\n",
    "false_positives = []\n",
    "# Define a hover handler\n",
    "def handle_hover(event, feature, **kwargs):\n",
    "    global is_hovering\n",
    "    is_hovering = True\n",
    "    properties = feature['properties']\n",
    "    geometry = feature['geometry']['coordinates'][0][0]\n",
    "    longitude, latitude = geometry[:2]\n",
    "    index = feature['properties']['index']\n",
    "    # Update the widget to show information\n",
    "    widget.value = f'Index: {index}, Lat: {latitude}, Lon: {longitude}'\n",
    "def handle_click(event, feature, **kwargs):\n",
    "    global is_hovering, false_positives, m\n",
    "    is_clicking = True\n",
    "    index = feature['properties']['index']\n",
    "    false_positives.append(index)\n",
    "    print(f'Feature Index: {index}')\n",
    "    longitude, latitude = feature['geometry']['coordinates'][0][0][:2]\n",
    "    center = (latitude, longitude)\n",
    "    marker = Marker(location=center, draggable=False)\n",
    "    m.add(marker)\n",
    "\n",
    "\n",
    "# Function to clear the widget if not hovering\n",
    "def clear_widget(*args, **kwargs):\n",
    "    global is_hovering\n",
    "    if not is_hovering:\n",
    "        widget.value = ''\n",
    "    is_hovering = False\n",
    "\n",
    "def change_click_color(feature):\n",
    "    return {\n",
    "        'color': 'blue',\n",
    "        'fillColor': 'blue'\n",
    "    }\n",
    "\n",
    "\n",
    "# Create the GeoJSON layer with hover functionality and add it to the map\n",
    "geo_json = GeoJSON(\n",
    "    data=geojson_data,\n",
    "    style={'color': 'yellow', 'fillcolor': 'yellow', 'opacity': 0.5},\n",
    "    hover_style={'color': 'green', 'fillOpacity': 0.8},\n",
    "    style_callback = change_click_color\n",
    ")\n",
    "geo_json.on_click(handle_click)\n",
    "geo_json.on_hover(handle_hover)\n",
    "\n",
    "\n",
    "esri_satellite = TileLayer(\n",
    "    url='https://server.arcgisonline.com/ArcGIS/rest/services/World_Imagery/MapServer/tile/{z}/{y}/{x}',\n",
    "    attribution='Tiles &copy; Esri &mdash; Source: Esri, i-cubed, USDA, USGS, AEX, GeoEye, Getmapping, Aerogrid, IGN, IGP, UPR-EGP, and the GIS User Community'\n",
    ")\n",
    "m.add_layer(esri_satellite)\n",
    "\n",
    "\n",
    "m.add_layer(geo_json)\n",
    "m"
   ]
  },
  {
   "cell_type": "markdown",
   "metadata": {},
   "source": [
    "#### Create a validation set of 100 barns"
   ]
  },
  {
   "cell_type": "code",
   "execution_count": 4,
   "metadata": {},
   "outputs": [
    {
     "name": "stdout",
     "output_type": "stream",
     "text": [
      "BBox coordinates: Lon (-103.34936167745889, -81.14936167745927), Lat (25.264594863148048, 47.46459486314767)\n",
      "Total barns in this bbox: 100\n"
     ]
    },
    {
     "data": {
      "application/vnd.jupyter.widget-view+json": {
       "model_id": "bb1438e3a30c4404aa74f418d0227314",
       "version_major": 2,
       "version_minor": 0
      },
      "text/plain": [
       "Map(center=[36.36459486314786, -92.24936167745908], controls=(ZoomControl(options=['position', 'zoom_in_text',…"
      ]
     },
     "execution_count": 4,
     "metadata": {},
     "output_type": "execute_result"
    }
   ],
   "source": [
    "from ipyleaflet import Map, GeoJSON, WidgetControl, TileLayer, Marker\n",
    "from ipywidgets import HTML, Layout\n",
    "import json\n",
    "import threading\n",
    "import time\n",
    "import random\n",
    "\n",
    "# Load your GeoJSON data\n",
    "with open('../output/northcarolina_final_data.geojson') as f:\n",
    "    geojson_data = json.load(f)\n",
    "for i, feature in enumerate(geojson_data['features']):\n",
    "    # Assign an 'index' property to each feature\n",
    "    feature['properties']['index'] = i\n",
    "\n",
    "# Function to generate bbox that contains at least 100 barns\n",
    "def generate_bbox_with_100_barns(features):\n",
    "    attempts = 0\n",
    "    while attempts < 1000:  # Limit attempts to avoid an infinite loop\n",
    "        center_lat = random.uniform(33.0, 36.5)\n",
    "        center_lon = random.uniform(-94.6, -89.6)\n",
    "        size = 0.01  # Start with a small bbox and increase if needed\n",
    "        while True:\n",
    "            lat_min, lat_max = center_lat - size, center_lat + size\n",
    "            lon_min, lon_max = center_lon - size, center_lon + size\n",
    "            filtered_features = [\n",
    "                feature for feature in features if\n",
    "                lon_min <= feature['geometry']['coordinates'][0][0][0] <= lon_max and\n",
    "                lat_min <= feature['geometry']['coordinates'][0][0][1] <= lat_max\n",
    "            ]\n",
    "            if len(filtered_features) >= 100:\n",
    "                print(f\"BBox coordinates: Lon ({lon_min}, {lon_max}), Lat ({lat_min}, {lat_max})\")\n",
    "                print(f\"Total barns in this bbox: {len(filtered_features)}\")  \n",
    "                return filtered_features, (lat_min, lat_max, lon_min, lon_max)\n",
    "            size += 0.01  # Increase bbox size\n",
    "        attempts += 1\n",
    "    raise ValueError(\"Failed to find a suitable bbox with 100 barns\")\n",
    "\n",
    "filtered_features, bbox_coords = generate_bbox_with_100_barns(geojson_data['features'])\n",
    "\n",
    "# Initialize the map at the center of the bbox\n",
    "center_lat = (bbox_coords[0] + bbox_coords[1]) / 2\n",
    "center_lon = (bbox_coords[2] + bbox_coords[3]) / 2\n",
    "m = Map(center=(center_lat, center_lon), zoom=7)\n",
    "\n",
    "# Create the GeoJSON layer with hover functionality and add it to the map\n",
    "geo_json = GeoJSON(\n",
    "    data={'type': 'FeatureCollection', 'features': filtered_features},\n",
    "    style={'color': 'red', 'fillcolor': '#ffffff', 'opacity': 1.0, 'fillOpacity': 0},\n",
    "    hover_style={'color': 'green', 'fillOpacity': 0.8},\n",
    "    style_callback=change_click_color\n",
    ")\n",
    "geo_json.on_click(handle_click)\n",
    "geo_json.on_hover(handle_hover)\n",
    "\n",
    "# Add other map components as before\n",
    "widget = HTML()\n",
    "widget.layout.margin = '0px 20px 20px 20px'\n",
    "control = WidgetControl(widget=widget, position='bottomright')\n",
    "m.add_control(control)\n",
    "esri_satellite = TileLayer(\n",
    "    url='https://server.arcgisonline.com/ArcGIS/rest/services/World_Imagery/MapServer/tile/{z}/{y}/{x}',\n",
    "    attribution='Tiles &copy; Esri &mdash; Source: Esri, i-cubed, USDA, USGS, AEX, GeoEye, Getmapping, Aerogrid, IGN, IGP, UPR-EGP, and the GIS User Community'\n",
    ")\n",
    "m.add_layer(esri_satellite)\n",
    "m.add_layer(geo_json)\n",
    "m\n"
   ]
  },
  {
   "cell_type": "code",
   "execution_count": 5,
   "metadata": {},
   "outputs": [],
   "source": [
    "with open('../output/index.txt', 'a') as file:\n",
    "    for i in false_positives:\n",
    "        file.write(str(i)+',')"
   ]
  }
 ],
 "metadata": {
  "kernelspec": {
   "display_name": "cafo",
   "language": "python",
   "name": "python3"
  },
  "language_info": {
   "codemirror_mode": {
    "name": "ipython",
    "version": 3
   },
   "file_extension": ".py",
   "mimetype": "text/x-python",
   "name": "python",
   "nbconvert_exporter": "python",
   "pygments_lexer": "ipython3",
   "version": "3.10.13"
  }
 },
 "nbformat": 4,
 "nbformat_minor": 2
}
