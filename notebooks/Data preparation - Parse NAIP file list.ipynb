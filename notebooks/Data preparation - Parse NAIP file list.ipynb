{
 "cells": [
  {
   "cell_type": "markdown",
   "id": "hawaiian-singapore",
   "metadata": {},
   "source": [
    "This notebook creates two subsets of NAIP tiles from the list of _all_ NAIP tiles:\n",
    "- A list of the most recent 100cm resolution imagery per state\n",
    "- A list of the most recent imagery per state\n",
    "\n",
    "It also creates per-state splits for each of the above subsets."
   ]
  },
  {
   "cell_type": "code",
   "execution_count": 1,
   "id": "aware-playing",
   "metadata": {},
   "outputs": [],
   "source": [
    "# Copyright (c) Microsoft Corporation. All rights reserved\n",
    "# Licensed under the MIT License.\n",
    "from collections import defaultdict"
   ]
  },
  {
   "cell_type": "code",
   "execution_count": 2,
   "id": "focused-information",
   "metadata": {},
   "outputs": [],
   "source": [
    "with open(\"../data/naip_blob_list.txt\") as f:\n",
    "    lines = f.read().strip().split()\n",
    "    urls = [\n",
    "        \"https://naipeuwest.blob.core.windows.net/naip/\" + line\n",
    "        for line in lines\n",
    "        if line.endswith(\".tif\")\n",
    "    ]"
   ]
  },
  {
   "cell_type": "code",
   "execution_count": 3,
   "id": "senior-reflection",
   "metadata": {},
   "outputs": [],
   "source": [
    "state_year_sets = defaultdict(set)\n",
    "state_resolution_sets = defaultdict(set)\n",
    "state_year_resolutions = {}\n",
    "unique_resolutions = set()\n",
    "for url in urls:\n",
    "    year = int(url.split(\"/\")[6])\n",
    "    state_code = url.split(\"/\")[5]\n",
    "    resolution = url.split(\"/\")[7].split(\"_\")[1].strip(\"0\")\n",
    "    unique_resolutions.add(resolution)\n",
    "    state_year_sets[state_code].add(year)\n",
    "    state_resolution_sets[state_code].add((year, resolution))\n",
    "    state_year_resolutions[(state_code, year)] = resolution"
   ]
  },
  {
   "cell_type": "code",
   "execution_count": 4,
   "id": "meaningful-recognition",
   "metadata": {},
   "outputs": [
    {
     "data": {
      "text/plain": [
       "{'100cm', '50cm', '60cm'}"
      ]
     },
     "execution_count": 4,
     "metadata": {},
     "output_type": "execute_result"
    }
   ],
   "source": [
    "unique_resolutions"
   ]
  },
  {
   "cell_type": "markdown",
   "id": "square-nancy",
   "metadata": {},
   "source": [
    "## Most recent 100cm resolution imagery"
   ]
  },
  {
   "cell_type": "code",
   "execution_count": 5,
   "id": "overall-vessel",
   "metadata": {},
   "outputs": [],
   "source": [
    "most_recent_100cm_state_year_pairs = set()\n",
    "for state, years in state_year_sets.items():\n",
    "    years = sorted(list(years))\n",
    "    \n",
    "    for i in range(len(years)-1, -1, -1):\n",
    "        resolution = state_year_resolutions[(state, years[i])]\n",
    "        if resolution != \"60cm\" and resolution != \"50cm\":\n",
    "            break\n",
    "    year = years[i]\n",
    "    most_recent_100cm_state_year_pairs.add((state, year))"
   ]
  },
  {
   "cell_type": "code",
   "execution_count": 6,
   "id": "freelance-license",
   "metadata": {},
   "outputs": [],
   "source": [
    "filtered_urls = []\n",
    "for url in urls:\n",
    "    year = int(url.split(\"/\")[6])\n",
    "    state_code = url.split(\"/\")[5]\n",
    "    if (state_code, year) in most_recent_100cm_state_year_pairs:\n",
    "        filtered_urls.append(url)"
   ]
  },
  {
   "cell_type": "code",
   "execution_count": 7,
   "id": "designed-basics",
   "metadata": {},
   "outputs": [
    {
     "data": {
      "text/plain": [
       "212354"
      ]
     },
     "execution_count": 7,
     "metadata": {},
     "output_type": "execute_result"
    }
   ],
   "source": [
    "len(filtered_urls)"
   ]
  },
  {
   "cell_type": "code",
   "execution_count": 8,
   "id": "reported-extent",
   "metadata": {},
   "outputs": [],
   "source": [
    "with open(\"../data/naip_most_recent_100cm.csv\", \"w\") as f:\n",
    "    f.write(\"image_fn\\n\")\n",
    "    f.write(\"\\n\".join(filtered_urls))"
   ]
  },
  {
   "cell_type": "code",
   "execution_count": 10,
   "id": "capital-subscriber",
   "metadata": {},
   "outputs": [],
   "source": [
    "for state_year_pair in most_recent_100cm_state_year_pairs:\n",
    "    filtered_urls = []\n",
    "    for url in urls:\n",
    "        year = int(url.split(\"/\")[6])\n",
    "        state_code = url.split(\"/\")[5]\n",
    "\n",
    "        if (state_code, year) == state_year_pair:\n",
    "            filtered_urls.append(url)\n",
    "    with open(\"../data/naip_most_recent_100cm_by_state/%s_%d.csv\" % (state_year_pair[0], state_year_pair[1]), \"w\") as f:\n",
    "        f.write(\"image_fn\\n\")\n",
    "        f.write(\"\\n\".join(filtered_urls))"
   ]
  },
  {
   "cell_type": "markdown",
   "id": "extra-leisure",
   "metadata": {},
   "source": [
    "## Most recent imagery"
   ]
  },
  {
   "cell_type": "code",
   "execution_count": 11,
   "id": "hybrid-boulder",
   "metadata": {},
   "outputs": [],
   "source": [
    "most_recent_state_year_pairs = set()\n",
    "for state, years in state_year_sets.items():\n",
    "    years = sorted(list(years))\n",
    "    year = years[-1]\n",
    "    most_recent_state_year_pairs.add((state, year))"
   ]
  },
  {
   "cell_type": "code",
   "execution_count": 12,
   "id": "minor-algebra",
   "metadata": {},
   "outputs": [],
   "source": [
    "filtered_urls = []\n",
    "for url in urls:\n",
    "    year = int(url.split(\"/\")[6])\n",
    "    state_code = url.split(\"/\")[5]\n",
    "    if (state_code, year) in most_recent_state_year_pairs:\n",
    "        filtered_urls.append(url)"
   ]
  },
  {
   "cell_type": "code",
   "execution_count": 13,
   "id": "wound-exhaust",
   "metadata": {},
   "outputs": [
    {
     "data": {
      "text/plain": [
       "215381"
      ]
     },
     "execution_count": 13,
     "metadata": {},
     "output_type": "execute_result"
    }
   ],
   "source": [
    "len(filtered_urls)"
   ]
  },
  {
   "cell_type": "code",
   "execution_count": 14,
   "id": "urban-model",
   "metadata": {},
   "outputs": [],
   "source": [
    "with open(\"../data/naip_most_recent.csv\", \"w\") as f:\n",
    "    f.write(\"image_fn\\n\")\n",
    "    f.write(\"\\n\".join(filtered_urls))"
   ]
  },
  {
   "cell_type": "code",
   "execution_count": 16,
   "id": "medium-baltimore",
   "metadata": {},
   "outputs": [],
   "source": [
    "for state_year_pair in most_recent_state_year_pairs:\n",
    "    filtered_urls = []\n",
    "    for url in urls:\n",
    "        year = int(url.split(\"/\")[6])\n",
    "        state_code = url.split(\"/\")[5]\n",
    "\n",
    "        if (state_code, year) == state_year_pair:\n",
    "            filtered_urls.append(url)\n",
    "    with open(\"../data/naip_most_recent_by_state/%s_%d.csv\" % (state_year_pair[0], state_year_pair[1]), \"w\") as f:\n",
    "        f.write(\"image_fn\\n\")\n",
    "        f.write(\"\\n\".join(filtered_urls))"
   ]
  }
 ],
 "metadata": {
  "kernelspec": {
   "display_name": "cafo",
   "language": "python",
   "name": "conda-env-cafo-py"
  },
  "language_info": {
   "codemirror_mode": {
    "name": "ipython",
    "version": 3
   },
   "file_extension": ".py",
   "mimetype": "text/x-python",
   "name": "python",
   "nbconvert_exporter": "python",
   "pygments_lexer": "ipython3",
   "version": "3.10.4"
  }
 },
 "nbformat": 4,
 "nbformat_minor": 5
}
